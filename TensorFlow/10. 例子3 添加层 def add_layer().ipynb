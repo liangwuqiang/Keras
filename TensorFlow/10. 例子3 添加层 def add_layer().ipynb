{
 "cells": [
  {
   "cell_type": "markdown",
   "metadata": {},
   "source": [
    "# 例子3 添加层 def add_layer()"
   ]
  },
  {
   "cell_type": "markdown",
   "metadata": {},
   "source": [
    "神经层里常见的参数通常有 weights、 biases 和 激励函数。"
   ]
  },
  {
   "cell_type": "code",
   "execution_count": 1,
   "metadata": {},
   "outputs": [],
   "source": [
    "import tensorflow as tf"
   ]
  },
  {
   "cell_type": "markdown",
   "metadata": {},
   "source": [
    "函数def add_layer(),它有四个参数： 输入值 、 输入的大小 、 输出的大小 和 激励函数"
   ]
  },
  {
   "cell_type": "code",
   "execution_count": 4,
   "metadata": {},
   "outputs": [],
   "source": [
    "def add_layer(inputs, in_size, out_size, activation_function=None):\n",
    "    \n",
    "    Weights = tf.Variable(tf.random_normal([in_size, out_size]))\n",
    "    \n",
    "    biases = tf.Variable(tf.zeros([1, out_size]) + 0.1)    \n",
    "    \n",
    "    Wx_plus_b = tf.matmul(inputs, Weights) + biases\n",
    "    \n",
    "    if activation_function is None:\n",
    "        outputs = Wx_plus_b\n",
    "    else:\n",
    "        outputs = activation_function(Wx_plus_b)\n",
    "    \n",
    "    \n",
    "    return outputs\n",
    "    "
   ]
  },
  {
   "cell_type": "markdown",
   "metadata": {},
   "source": [
    "### Weights = tf.Variable(tf.random_normal([in_size, out_size]))\n",
    "\n",
    "在生成初始参数时，随机变量(normal distribution)会比全部为0要好很多，\n",
    "\n",
    "所以我们这里的 weights 为一个 in_size 行,  out_size 列的 随机变量矩阵。"
   ]
  },
  {
   "cell_type": "markdown",
   "metadata": {},
   "source": [
    "###  biases = tf.Variable(tf.zeros([1, out_size]) + 0.1)  \n",
    "\n",
    "在机器学习中，biases的推荐值不为0，所以我们这里是在0向量的基础上又加了0.1"
   ]
  },
  {
   "cell_type": "code",
   "execution_count": 3,
   "metadata": {},
   "outputs": [
    {
     "data": {
      "text/plain": [
       "array([[ 0.,  0.,  0.,  0.,  0.,  0.,  0.,  0.,  0.,  0.]])"
      ]
     },
     "execution_count": 3,
     "metadata": {},
     "output_type": "execute_result"
    }
   ],
   "source": [
    "import numpy as np\n",
    "np.zeros([1, 10])"
   ]
  },
  {
   "cell_type": "markdown",
   "metadata": {},
   "source": [
    "### Wx_plus_b = tf.matmul(inputs, Weights) + biases\n",
    "\n",
    "### Wx_plus_b,  神经网络 未激活的值\n",
    "\n",
    "### tf.matmul() 是矩阵的乘法"
   ]
  },
  {
   "cell_type": "markdown",
   "metadata": {},
   "source": [
    "当activation_function——激励函数为None时，输出就是当前的预测值——Wx_plus_b，\n",
    "\n",
    "不为None时，就把Wx_plus_b传到activation_function()函数中得到输出。"
   ]
  },
  {
   "cell_type": "markdown",
   "metadata": {},
   "source": [
    "### 激活不为空时，传入的参数 在哪里使用？"
   ]
  }
 ],
 "metadata": {
  "kernelspec": {
   "display_name": "Python 3",
   "language": "python",
   "name": "python3"
  },
  "language_info": {
   "codemirror_mode": {
    "name": "ipython",
    "version": 3
   },
   "file_extension": ".py",
   "mimetype": "text/x-python",
   "name": "python",
   "nbconvert_exporter": "python",
   "pygments_lexer": "ipython3",
   "version": "3.5.2"
  }
 },
 "nbformat": 4,
 "nbformat_minor": 2
}
