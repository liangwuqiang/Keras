{
 "cells": [
  {
   "cell_type": "markdown",
   "metadata": {},
   "source": [
    "# 基于多层感知器的softmax多分类："
   ]
  },
  {
   "cell_type": "code",
   "execution_count": 1,
   "metadata": {},
   "outputs": [
    {
     "name": "stderr",
     "output_type": "stream",
     "text": [
      "Using TensorFlow backend.\n"
     ]
    }
   ],
   "source": [
    "from keras.models import Sequential\n",
    "from keras.layers import Dense, Dropout, Activation\n",
    "from keras.optimizers import SGD"
   ]
  },
  {
   "cell_type": "code",
   "execution_count": 3,
   "metadata": {},
   "outputs": [],
   "source": [
    "import keras\n",
    "# Generate dummy data\n",
    "import numpy as np\n",
    "x_train = np.random.random((1000, 20))\n",
    "y_train = keras.utils.to_categorical(np.random.randint(10, size=(1000, 1)), num_classes=10)\n",
    "x_test = np.random.random((100, 20))\n",
    "y_test = keras.utils.to_categorical(np.random.randint(10, size=(100, 1)), num_classes=10)"
   ]
  },
  {
   "cell_type": "code",
   "execution_count": 4,
   "metadata": {},
   "outputs": [],
   "source": [
    "model = Sequential()\n",
    "# Dense(64) is a fully-connected layer with 64 hidden units.\n",
    "# in the first layer, you must specify the expected input data shape:\n",
    "# here, 20-dimensional vectors.\n",
    "model.add(Dense(64, activation='relu', input_dim=20))\n",
    "model.add(Dropout(0.5))\n",
    "model.add(Dense(64, activation='relu'))\n",
    "model.add(Dropout(0.5))\n",
    "model.add(Dense(10, activation='softmax'))"
   ]
  },
  {
   "cell_type": "code",
   "execution_count": 5,
   "metadata": {},
   "outputs": [],
   "source": [
    "sgd = SGD(lr=0.01, decay=1e-6, momentum=0.9, nesterov=True)"
   ]
  },
  {
   "cell_type": "code",
   "execution_count": 6,
   "metadata": {},
   "outputs": [],
   "source": [
    "model.compile(loss='categorical_crossentropy',\n",
    "              optimizer=sgd,\n",
    "              metrics=['accuracy'])"
   ]
  },
  {
   "cell_type": "code",
   "execution_count": 7,
   "metadata": {},
   "outputs": [
    {
     "name": "stdout",
     "output_type": "stream",
     "text": [
      "Epoch 1/20\n",
      "1000/1000 [==============================] - 0s - loss: 2.4190 - acc: 0.1040     \n",
      "Epoch 2/20\n",
      "1000/1000 [==============================] - 0s - loss: 2.3663 - acc: 0.0850     \n",
      "Epoch 3/20\n",
      "1000/1000 [==============================] - 0s - loss: 2.3161 - acc: 0.1010     \n",
      "Epoch 4/20\n",
      "1000/1000 [==============================] - 0s - loss: 2.3406 - acc: 0.0960     \n",
      "Epoch 5/20\n",
      "1000/1000 [==============================] - 0s - loss: 2.3252 - acc: 0.1090     \n",
      "Epoch 6/20\n",
      "1000/1000 [==============================] - 0s - loss: 2.3228 - acc: 0.1000     \n",
      "Epoch 7/20\n",
      "1000/1000 [==============================] - 0s - loss: 2.3118 - acc: 0.1100     \n",
      "Epoch 8/20\n",
      "1000/1000 [==============================] - 0s - loss: 2.3209 - acc: 0.1010     \n",
      "Epoch 9/20\n",
      "1000/1000 [==============================] - 0s - loss: 2.3096 - acc: 0.0970     \n",
      "Epoch 10/20\n",
      "1000/1000 [==============================] - 0s - loss: 2.3112 - acc: 0.1140     \n",
      "Epoch 11/20\n",
      "1000/1000 [==============================] - 0s - loss: 2.3044 - acc: 0.1080     \n",
      "Epoch 12/20\n",
      "1000/1000 [==============================] - 0s - loss: 2.3075 - acc: 0.1010     \n",
      "Epoch 13/20\n",
      "1000/1000 [==============================] - 0s - loss: 2.3011 - acc: 0.1280     \n",
      "Epoch 14/20\n",
      "1000/1000 [==============================] - 0s - loss: 2.3107 - acc: 0.1030     \n",
      "Epoch 15/20\n",
      "1000/1000 [==============================] - 0s - loss: 2.3028 - acc: 0.1080     \n",
      "Epoch 16/20\n",
      "1000/1000 [==============================] - 0s - loss: 2.3071 - acc: 0.1020     \n",
      "Epoch 17/20\n",
      "1000/1000 [==============================] - 0s - loss: 2.3057 - acc: 0.1040     \n",
      "Epoch 18/20\n",
      "1000/1000 [==============================] - 0s - loss: 2.3107 - acc: 0.0940     \n",
      "Epoch 19/20\n",
      "1000/1000 [==============================] - 0s - loss: 2.3092 - acc: 0.1030     \n",
      "Epoch 20/20\n",
      "1000/1000 [==============================] - 0s - loss: 2.2999 - acc: 0.1100     \n"
     ]
    },
    {
     "data": {
      "text/plain": [
       "<keras.callbacks.History at 0x7fb1ce927ef0>"
      ]
     },
     "execution_count": 7,
     "metadata": {},
     "output_type": "execute_result"
    }
   ],
   "source": [
    "model.fit(x_train, y_train,\n",
    "          epochs=20,\n",
    "          batch_size=128)"
   ]
  },
  {
   "cell_type": "code",
   "execution_count": 8,
   "metadata": {},
   "outputs": [
    {
     "name": "stdout",
     "output_type": "stream",
     "text": [
      "100/100 [==============================] - 0s\n"
     ]
    }
   ],
   "source": [
    "score = model.evaluate(x_test, y_test, batch_size=128)"
   ]
  },
  {
   "cell_type": "code",
   "execution_count": null,
   "metadata": {},
   "outputs": [],
   "source": []
  }
 ],
 "metadata": {
  "kernelspec": {
   "display_name": "Python 3",
   "language": "python",
   "name": "python3"
  },
  "language_info": {
   "codemirror_mode": {
    "name": "ipython",
    "version": 3
   },
   "file_extension": ".py",
   "mimetype": "text/x-python",
   "name": "python",
   "nbconvert_exporter": "python",
   "pygments_lexer": "ipython3",
   "version": "3.5.2"
  }
 },
 "nbformat": 4,
 "nbformat_minor": 2
}
