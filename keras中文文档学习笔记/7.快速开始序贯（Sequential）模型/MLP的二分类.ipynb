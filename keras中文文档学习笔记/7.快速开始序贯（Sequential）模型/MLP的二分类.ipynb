{
 "cells": [
  {
   "cell_type": "markdown",
   "metadata": {},
   "source": [
    "# MLP的二分类"
   ]
  },
  {
   "cell_type": "code",
   "execution_count": 1,
   "metadata": {},
   "outputs": [
    {
     "name": "stderr",
     "output_type": "stream",
     "text": [
      "Using TensorFlow backend.\n"
     ]
    }
   ],
   "source": [
    "import numpy as np\n",
    "from keras.models import Sequential\n",
    "from keras.layers import Dense, Dropout"
   ]
  },
  {
   "cell_type": "code",
   "execution_count": 2,
   "metadata": {},
   "outputs": [],
   "source": [
    "# Generate dummy data\n",
    "x_train = np.random.random((1000, 20))\n",
    "y_train = np.random.randint(2, size=(1000, 1))\n",
    "x_test = np.random.random((100, 20))\n",
    "y_test = np.random.randint(2, size=(100, 1))"
   ]
  },
  {
   "cell_type": "code",
   "execution_count": 3,
   "metadata": {},
   "outputs": [],
   "source": [
    "model = Sequential()\n",
    "model.add(Dense(64, input_dim=20, activation='relu'))\n",
    "model.add(Dropout(0.5))\n",
    "model.add(Dense(64, activation='relu'))\n",
    "model.add(Dropout(0.5))\n",
    "model.add(Dense(1, activation='sigmoid'))"
   ]
  },
  {
   "cell_type": "code",
   "execution_count": 4,
   "metadata": {},
   "outputs": [],
   "source": [
    "model.compile(loss='binary_crossentropy',\n",
    "              optimizer='rmsprop',\n",
    "              metrics=['accuracy'])"
   ]
  },
  {
   "cell_type": "code",
   "execution_count": 5,
   "metadata": {},
   "outputs": [
    {
     "name": "stdout",
     "output_type": "stream",
     "text": [
      "Epoch 1/20\n",
      "1000/1000 [==============================] - 0s - loss: 0.7208 - acc: 0.5050     \n",
      "Epoch 2/20\n",
      "1000/1000 [==============================] - 0s - loss: 0.7077 - acc: 0.5100     \n",
      "Epoch 3/20\n",
      "1000/1000 [==============================] - 0s - loss: 0.7023 - acc: 0.5070     \n",
      "Epoch 4/20\n",
      "1000/1000 [==============================] - 0s - loss: 0.7039 - acc: 0.5020     \n",
      "Epoch 5/20\n",
      "1000/1000 [==============================] - 0s - loss: 0.7030 - acc: 0.5020     \n",
      "Epoch 6/20\n",
      "1000/1000 [==============================] - 0s - loss: 0.6994 - acc: 0.5250     \n",
      "Epoch 7/20\n",
      "1000/1000 [==============================] - 0s - loss: 0.7014 - acc: 0.4960     \n",
      "Epoch 8/20\n",
      "1000/1000 [==============================] - 0s - loss: 0.6956 - acc: 0.5120     \n",
      "Epoch 9/20\n",
      "1000/1000 [==============================] - 0s - loss: 0.6947 - acc: 0.5280     \n",
      "Epoch 10/20\n",
      "1000/1000 [==============================] - 0s - loss: 0.6984 - acc: 0.5080     \n",
      "Epoch 11/20\n",
      "1000/1000 [==============================] - 0s - loss: 0.6949 - acc: 0.5210     \n",
      "Epoch 12/20\n",
      "1000/1000 [==============================] - 0s - loss: 0.6955 - acc: 0.5120     \n",
      "Epoch 13/20\n",
      "1000/1000 [==============================] - 0s - loss: 0.7000 - acc: 0.5050     \n",
      "Epoch 14/20\n",
      "1000/1000 [==============================] - 0s - loss: 0.6931 - acc: 0.5230     \n",
      "Epoch 15/20\n",
      "1000/1000 [==============================] - 0s - loss: 0.6924 - acc: 0.5360     \n",
      "Epoch 16/20\n",
      "1000/1000 [==============================] - 0s - loss: 0.6991 - acc: 0.4790     \n",
      "Epoch 17/20\n",
      "1000/1000 [==============================] - 0s - loss: 0.7022 - acc: 0.4990     \n",
      "Epoch 18/20\n",
      "1000/1000 [==============================] - 0s - loss: 0.6893 - acc: 0.5310     \n",
      "Epoch 19/20\n",
      "1000/1000 [==============================] - 0s - loss: 0.6897 - acc: 0.5470     \n",
      "Epoch 20/20\n",
      "1000/1000 [==============================] - 0s - loss: 0.6904 - acc: 0.5330     \n"
     ]
    },
    {
     "data": {
      "text/plain": [
       "<keras.callbacks.History at 0x7fde647b1ac8>"
      ]
     },
     "execution_count": 5,
     "metadata": {},
     "output_type": "execute_result"
    }
   ],
   "source": [
    "model.fit(x_train, y_train,\n",
    "          epochs=20,\n",
    "          batch_size=128)"
   ]
  },
  {
   "cell_type": "code",
   "execution_count": 6,
   "metadata": {},
   "outputs": [
    {
     "name": "stdout",
     "output_type": "stream",
     "text": [
      "100/100 [==============================] - 0s\n"
     ]
    }
   ],
   "source": [
    "score = model.evaluate(x_test, y_test, batch_size=128)"
   ]
  },
  {
   "cell_type": "code",
   "execution_count": null,
   "metadata": {},
   "outputs": [],
   "source": []
  }
 ],
 "metadata": {
  "kernelspec": {
   "display_name": "Python 3",
   "language": "python",
   "name": "python3"
  },
  "language_info": {
   "codemirror_mode": {
    "name": "ipython",
    "version": 3
   },
   "file_extension": ".py",
   "mimetype": "text/x-python",
   "name": "python",
   "nbconvert_exporter": "python",
   "pygments_lexer": "ipython3",
   "version": "3.5.2"
  }
 },
 "nbformat": 4,
 "nbformat_minor": 2
}
