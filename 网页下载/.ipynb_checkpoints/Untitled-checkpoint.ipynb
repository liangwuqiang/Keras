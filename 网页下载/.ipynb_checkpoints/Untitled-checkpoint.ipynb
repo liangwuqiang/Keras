{
 "cells": [
  {
   "cell_type": "code",
   "execution_count": null,
   "metadata": {
    "collapsed": true
   },
   "outputs": [],
   "source": [
    "# coding:utf-8\n",
    "import numpy as np"
   ]
  },
  {
   "cell_type": "code",
   "execution_count": 3,
   "metadata": {},
   "outputs": [
    {
     "name": "stdout",
     "output_type": "stream",
     "text": [
      "0\n",
      "1\n",
      "2\n",
      "3\n",
      "4\n",
      "5\n",
      "6\n",
      "7\n",
      "8\n",
      "9\n",
      "10\n",
      "11\n",
      "12\n",
      "13\n",
      "14\n",
      "15\n",
      "16\n",
      "17\n",
      "18\n",
      "19\n",
      "20\n",
      "21\n",
      "[-0.01272316 -0.1729134  -0.01583692]\n",
      "True\n",
      "True\n",
      "True\n",
      "True\n",
      "True\n",
      "True\n",
      "True\n",
      "True\n"
     ]
    }
   ],
   "source": [
    "def relu(z):\n",
    "    return np.maximum(z, 0.0)\n",
    "\n",
    "def percepT(x, y, iter):  # 感知机原始形式\n",
    "    n = np.shape(x)[1]\n",
    "    m = len(x)\n",
    "    theta = np.ones(n)\n",
    "    alpha = 0.02\n",
    "    for it in range(iter):\n",
    "        l = 0\n",
    "        print(it)\n",
    "        for k in range(m):\n",
    "            a=relu(x[k].dot(theta.T))\n",
    "            if (a) * y[k] < 0:\n",
    "                l = 1\n",
    "                theta+=alpha *(y[k]-a)*x[k]\n",
    "        if l == 0:\n",
    "            break\n",
    "    return theta\n",
    "\n",
    "N=3\n",
    "a=range(2**N)\n",
    "x=[bin(i)[2:].zfill(N) for i in a]\n",
    "data=np.array([[int(i) for i in j ]for j in x])\n",
    "y=np.array([i[0]*i[2] for i in data])\n",
    "y[y==0]=-1\n",
    "theta = percepT(data, np.array(y), 100)\n",
    "print(theta)  # [-0.01272316 -0.1729134  -0.01583692]\n",
    "for i,j in zip(data,np.array(y)):\n",
    "    print(relu(i.dot(theta.T))* j>=0)"
   ]
  },
  {
   "cell_type": "code",
   "execution_count": null,
   "metadata": {
    "collapsed": true
   },
   "outputs": [],
   "source": []
  }
 ],
 "metadata": {
  "kernelspec": {
   "display_name": "Python 3",
   "language": "python",
   "name": "python3"
  },
  "language_info": {
   "codemirror_mode": {
    "name": "ipython",
    "version": 3
   },
   "file_extension": ".py",
   "mimetype": "text/x-python",
   "name": "python",
   "nbconvert_exporter": "python",
   "pygments_lexer": "ipython3",
   "version": "3.5.2"
  }
 },
 "nbformat": 4,
 "nbformat_minor": 2
}
