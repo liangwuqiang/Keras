{
 "cells": [
  {
   "cell_type": "markdown",
   "metadata": {},
   "source": [
    "# 简介"
   ]
  },
  {
   "cell_type": "code",
   "execution_count": 1,
   "metadata": {},
   "outputs": [],
   "source": [
    "import tensorflow as tf\n",
    "import numpy as np"
   ]
  },
  {
   "cell_type": "code",
   "execution_count": 3,
   "metadata": {},
   "outputs": [],
   "source": [
    "import matplotlib.pyplot as plt  # 怎样将数据可视化呢？"
   ]
  },
  {
   "cell_type": "code",
   "execution_count": 4,
   "metadata": {},
   "outputs": [],
   "source": [
    "# 使用 NumPy 生成假数据(phony data), 总共 100 个点.\n",
    "x_data = np.float32(np.random.rand(2, 100)) # 随机生成一个二维数组\n",
    "y_data = np.dot([0.100, 0.200], x_data) + 0.300  # 矩阵乘法，产生一维的数组"
   ]
  },
  {
   "cell_type": "code",
   "execution_count": 7,
   "metadata": {},
   "outputs": [],
   "source": [
    "# 构造一个线性模型\n",
    "# \n",
    "b = tf.Variable(tf.zeros([1]))\n",
    "W = tf.Variable(tf.random_uniform([1, 2], -1.0, 1.0))  # 怎样确定权重的形状？\n",
    "y = tf.matmul(W, x_data) + b  # matmul与dot有啥区别？库不同而已？"
   ]
  },
  {
   "cell_type": "code",
   "execution_count": 8,
   "metadata": {},
   "outputs": [],
   "source": [
    "# 最小化方差\n",
    "loss = tf.reduce_mean(tf.square(y - y_data))  # 目标差值的平方，再取平均值\n",
    "optimizer = tf.train.GradientDescentOptimizer(0.5)  # 梯度递减优化\n",
    "train = optimizer.minimize(loss)  # 使损失最小化"
   ]
  },
  {
   "cell_type": "code",
   "execution_count": 18,
   "metadata": {},
   "outputs": [],
   "source": [
    "# 初始化变量\n",
    "init = tf.global_variables_initializer()  # 标准化动作，何必要多此一举呢？"
   ]
  },
  {
   "cell_type": "code",
   "execution_count": 19,
   "metadata": {},
   "outputs": [],
   "source": [
    "# 启动会话\n",
    "sess = tf.Session()   # 标准化动作\n",
    "sess.run(init)    # 标准化动作"
   ]
  },
  {
   "cell_type": "code",
   "execution_count": 20,
   "metadata": {},
   "outputs": [
    {
     "name": "stdout",
     "output_type": "stream",
     "text": [
      "0 [[-0.18848014  0.39850003]] [ 0.7751267]\n",
      "20 [[-0.01865288  0.15614405]] [ 0.38633221]\n",
      "40 [[ 0.05939233  0.16983794]] [ 0.33731166]\n",
      "60 [[ 0.08402894  0.18508708]] [ 0.31623796]\n",
      "80 [[ 0.09330117  0.19321074]] [ 0.30708459]\n",
      "100 [[ 0.09711717  0.1969905 ]] [ 0.30309382]\n",
      "120 [[ 0.09874737  0.19867827]] [ 0.30135152]\n",
      "140 [[ 0.09945378  0.19942142]] [ 0.30059049]\n",
      "160 [[ 0.09976152  0.19974704]] [ 0.30025798]\n",
      "180 [[ 0.09989582  0.19988945]] [ 0.30011272]\n",
      "200 [[ 0.09995449  0.19995169]] [ 0.30004925]\n"
     ]
    }
   ],
   "source": [
    "# 拟合\n",
    "for step in range(0, 201):\n",
    "    sess.run(train)\n",
    "    if step % 20 == 0:\n",
    "        print(step, sess.run(W), sess.run(b))"
   ]
  },
  {
   "cell_type": "markdown",
   "metadata": {},
   "source": [
    "### 关键是怎么知道要建立什么样的模型来进行拟合，这里的模型是参照真值产生的公式来定义的"
   ]
  },
  {
   "cell_type": "code",
   "execution_count": null,
   "metadata": {},
   "outputs": [],
   "source": []
  }
 ],
 "metadata": {
  "kernelspec": {
   "display_name": "Python 3",
   "language": "python",
   "name": "python3"
  },
  "language_info": {
   "codemirror_mode": {
    "name": "ipython",
    "version": 3
   },
   "file_extension": ".py",
   "mimetype": "text/x-python",
   "name": "python",
   "nbconvert_exporter": "python",
   "pygments_lexer": "ipython3",
   "version": "3.5.2"
  }
 },
 "nbformat": 4,
 "nbformat_minor": 2
}
