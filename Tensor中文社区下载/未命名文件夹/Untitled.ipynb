{
 "cells": [
  {
   "cell_type": "code",
   "execution_count": 1,
   "metadata": {},
   "outputs": [],
   "source": [
    "import tensorflow as tf\n",
    "import numpy as np"
   ]
  },
  {
   "cell_type": "code",
   "execution_count": 17,
   "metadata": {},
   "outputs": [],
   "source": [
    "# 使用 NumPy 生成假数据(phony data), 总共 100 个点.\n",
    "x_data = np.float32(np.random.rand(2, 100)) # 随机输入\n",
    "y_data = np.dot([0.100, 0.200], x_data) + 0.300"
   ]
  },
  {
   "cell_type": "code",
   "execution_count": 22,
   "metadata": {},
   "outputs": [
    {
     "data": {
      "text/plain": [
       "array([ 0.34432232,  0.44877555,  0.47708763,  0.51339244,  0.42723691,\n",
       "        0.51715146,  0.4143393 ,  0.34248789,  0.43255919,  0.31451497,\n",
       "        0.40962519,  0.47049194,  0.36860847,  0.37366657,  0.36238338,\n",
       "        0.46502073,  0.50545993,  0.50239601,  0.51345224,  0.36872168,\n",
       "        0.53527834,  0.40736134,  0.44668893,  0.46583491,  0.56957983,\n",
       "        0.43551306,  0.47180258,  0.40259519,  0.32935526,  0.56773856,\n",
       "        0.57826352,  0.37419455,  0.46390646,  0.55879653,  0.3069811 ,\n",
       "        0.44533665,  0.40129313,  0.40032951,  0.39495025,  0.50232083,\n",
       "        0.43709962,  0.54674144,  0.45391039,  0.46856998,  0.43164828,\n",
       "        0.50348805,  0.42959178,  0.47693043,  0.34603533,  0.52759204,\n",
       "        0.43372721,  0.43505528,  0.44810789,  0.46234645,  0.30875964,\n",
       "        0.4202391 ,  0.55922403,  0.34888061,  0.56585639,  0.43347057,\n",
       "        0.53679817,  0.48884403,  0.50367533,  0.48549662,  0.52100833,\n",
       "        0.43391259,  0.35993765,  0.45280465,  0.51049632,  0.48961313,\n",
       "        0.44747356,  0.46740909,  0.34366763,  0.39518101,  0.33266319,\n",
       "        0.50851452,  0.48172585,  0.32551597,  0.42475087,  0.53028082,\n",
       "        0.43706093,  0.4535668 ,  0.44713081,  0.44251988,  0.37802061,\n",
       "        0.4199164 ,  0.42702966,  0.38325449,  0.44397631,  0.37845882,\n",
       "        0.38243038,  0.43006176,  0.38474258,  0.35652789,  0.34199812,\n",
       "        0.53782246,  0.43347042,  0.48539305,  0.36528083,  0.44075035])"
      ]
     },
     "execution_count": 22,
     "metadata": {},
     "output_type": "execute_result"
    }
   ],
   "source": [
    "y_data"
   ]
  },
  {
   "cell_type": "code",
   "execution_count": 23,
   "metadata": {},
   "outputs": [],
   "source": [
    "# 构造一个线性模型\n",
    "# \n",
    "b = tf.Variable(tf.zeros([1]))\n",
    "W = tf.Variable(tf.random_uniform([1, 2], -1.0, 1.0))\n",
    "y = tf.matmul(W, x_data) + b"
   ]
  },
  {
   "cell_type": "code",
   "execution_count": 24,
   "metadata": {},
   "outputs": [
    {
     "data": {
      "text/plain": [
       "<tf.Variable 'Variable:0' shape=(1,) dtype=float32_ref>"
      ]
     },
     "execution_count": 24,
     "metadata": {},
     "output_type": "execute_result"
    }
   ],
   "source": [
    "b"
   ]
  },
  {
   "cell_type": "code",
   "execution_count": 25,
   "metadata": {},
   "outputs": [],
   "source": [
    "# 最小化方差\n",
    "loss = tf.reduce_mean(tf.square(y - y_data))\n",
    "optimizer = tf.train.GradientDescentOptimizer(0.5)\n",
    "train = optimizer.minimize(loss)"
   ]
  },
  {
   "cell_type": "code",
   "execution_count": 26,
   "metadata": {},
   "outputs": [
    {
     "name": "stdout",
     "output_type": "stream",
     "text": [
      "WARNING:tensorflow:From /usr/local/lib/python3.5/dist-packages/tensorflow/python/util/tf_should_use.py:175: initialize_all_variables (from tensorflow.python.ops.variables) is deprecated and will be removed after 2017-03-02.\n",
      "Instructions for updating:\n",
      "Use `tf.global_variables_initializer` instead.\n"
     ]
    }
   ],
   "source": [
    "# 初始化变量\n",
    "init = tf.initialize_all_variables()"
   ]
  },
  {
   "cell_type": "code",
   "execution_count": 27,
   "metadata": {},
   "outputs": [],
   "source": [
    "# 启动图 (graph)\n",
    "sess = tf.Session()\n",
    "sess.run(init)"
   ]
  },
  {
   "cell_type": "code",
   "execution_count": 28,
   "metadata": {},
   "outputs": [
    {
     "data": {
      "text/plain": [
       "array([ 0.], dtype=float32)"
      ]
     },
     "execution_count": 28,
     "metadata": {},
     "output_type": "execute_result"
    }
   ],
   "source": [
    "sess.run(b)"
   ]
  },
  {
   "cell_type": "code",
   "execution_count": 29,
   "metadata": {},
   "outputs": [
    {
     "data": {
      "text/plain": [
       "array([[-0.50738502, -0.3036139 ]], dtype=float32)"
      ]
     },
     "execution_count": 29,
     "metadata": {},
     "output_type": "execute_result"
    }
   ],
   "source": [
    "sess.run(W)"
   ]
  },
  {
   "cell_type": "code",
   "execution_count": 30,
   "metadata": {},
   "outputs": [
    {
     "data": {
      "text/plain": [
       "array([[-0.17825711, -0.46710438, -0.30691212, -0.58911228, -0.43083605,\n",
       "        -0.39702052, -0.25587761, -0.13390058, -0.421404  , -0.06422111,\n",
       "        -0.20093158, -0.32167837, -0.25640047, -0.14665282, -0.22286344,\n",
       "        -0.36522818, -0.59231639, -0.65073109, -0.58877701, -0.33353761,\n",
       "        -0.66705942, -0.42495102, -0.54230082, -0.43883374, -0.72213656,\n",
       "        -0.27334219, -0.29238883, -0.41867739, -0.10027099, -0.66730636,\n",
       "        -0.75882292, -0.17213541, -0.56192929, -0.64316577, -0.02405809,\n",
       "        -0.28313887, -0.46740472, -0.31009898, -0.42184991, -0.34772807,\n",
       "        -0.44308084, -0.65680999, -0.47004944, -0.34542423, -0.28570446,\n",
       "        -0.49724317, -0.29796028, -0.33032882, -0.23269264, -0.68800789,\n",
       "        -0.25293112, -0.51341289, -0.42413414, -0.46628821, -0.01770614,\n",
       "        -0.41713122, -0.68865311, -0.13807769, -0.70389092, -0.43572247,\n",
       "        -0.6887604 , -0.29599112, -0.64239872, -0.63497889, -0.64325052,\n",
       "        -0.32811213, -0.2383676 , -0.33131847, -0.49351516, -0.50764513,\n",
       "        -0.57712722, -0.6087755 , -0.10551789, -0.3190704 , -0.14093058,\n",
       "        -0.41683853, -0.36366475, -0.07998984, -0.24254674, -0.61687446,\n",
       "        -0.43467048, -0.34311604, -0.39342713, -0.49776763, -0.15463254,\n",
       "        -0.23890947, -0.45223686, -0.17015088, -0.55977398, -0.21488918,\n",
       "        -0.16599223, -0.5250082 , -0.31347364, -0.22078495, -0.10305224,\n",
       "        -0.70994747, -0.5340566 , -0.40789932, -0.31053647, -0.44236648]], dtype=float32)"
      ]
     },
     "execution_count": 30,
     "metadata": {},
     "output_type": "execute_result"
    }
   ],
   "source": [
    "sess.run(y)"
   ]
  },
  {
   "cell_type": "code",
   "execution_count": 33,
   "metadata": {},
   "outputs": [
    {
     "name": "stdout",
     "output_type": "stream",
     "text": [
      "0 [[-0.02861232  0.11788073]] [ 0.83311242]\n",
      "20 [[ 0.03286885  0.13240035]] [ 0.36865696]\n",
      "40 [[ 0.08324765  0.17983271]] [ 0.31871915]\n",
      "60 [[ 0.09569434  0.19414073]] [ 0.3051362]\n",
      "80 [[ 0.0988677   0.19832465]] [ 0.30141538]\n",
      "100 [[ 0.09969713  0.19952571]] [ 0.3003912]\n",
      "120 [[ 0.099918    0.19986658]] [ 0.30010831]\n",
      "140 [[ 0.09997761  0.19996263]] [ 0.30003002]\n",
      "160 [[ 0.09999384  0.19998954]] [ 0.30000836]\n",
      "180 [[ 0.0999983   0.19999707]] [ 0.30000231]\n",
      "200 [[ 0.09999952  0.19999917]] [ 0.30000067]\n"
     ]
    }
   ],
   "source": [
    "# 拟合平面\n",
    "for step in range(0, 201):\n",
    "    sess.run(train)\n",
    "    if step % 20 == 0:\n",
    "        print(step, sess.run(W), sess.run(b))"
   ]
  },
  {
   "cell_type": "code",
   "execution_count": null,
   "metadata": {},
   "outputs": [],
   "source": []
  }
 ],
 "metadata": {
  "kernelspec": {
   "display_name": "Python 3",
   "language": "python",
   "name": "python3"
  },
  "language_info": {
   "codemirror_mode": {
    "name": "ipython",
    "version": 3
   },
   "file_extension": ".py",
   "mimetype": "text/x-python",
   "name": "python",
   "nbconvert_exporter": "python",
   "pygments_lexer": "ipython3",
   "version": "3.5.2"
  }
 },
 "nbformat": 4,
 "nbformat_minor": 2
}
